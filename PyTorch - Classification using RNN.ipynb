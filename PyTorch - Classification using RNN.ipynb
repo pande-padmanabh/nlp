{
 "cells": [
  {
   "cell_type": "markdown",
   "metadata": {},
   "source": [
    "<h3>Classify names in multiple languages using RNN</h3>\n",
    "<p>The notebook includes the steps to build RNN from scratch in PyTorch. This network is then used to build a multi-classifier to identify the language of people's names. Steps to train and evaluate a model in the most basic way are also mentioned here.</p>"
   ]
  },
  {
   "cell_type": "code",
   "execution_count": 1,
   "metadata": {},
   "outputs": [
    {
     "name": "stdout",
     "output_type": "stream",
     "text": [
      "Archive:  data.zip\n",
      "   creating: pytorch_rnn_classification/data/\n",
      "  inflating: pytorch_rnn_classification/data/eng-fra.txt  \n",
      "   creating: pytorch_rnn_classification/data/names/\n",
      "  inflating: pytorch_rnn_classification/data/names/Arabic.txt  \n",
      "  inflating: pytorch_rnn_classification/data/names/Chinese.txt  \n",
      "  inflating: pytorch_rnn_classification/data/names/Czech.txt  \n",
      "  inflating: pytorch_rnn_classification/data/names/Dutch.txt  \n",
      "  inflating: pytorch_rnn_classification/data/names/English.txt  \n",
      "  inflating: pytorch_rnn_classification/data/names/French.txt  \n",
      "  inflating: pytorch_rnn_classification/data/names/German.txt  \n",
      "  inflating: pytorch_rnn_classification/data/names/Greek.txt  \n",
      "  inflating: pytorch_rnn_classification/data/names/Irish.txt  \n",
      "  inflating: pytorch_rnn_classification/data/names/Italian.txt  \n",
      "  inflating: pytorch_rnn_classification/data/names/Japanese.txt  \n",
      "  inflating: pytorch_rnn_classification/data/names/Korean.txt  \n",
      "  inflating: pytorch_rnn_classification/data/names/Polish.txt  \n",
      "  inflating: pytorch_rnn_classification/data/names/Portuguese.txt  \n",
      "  inflating: pytorch_rnn_classification/data/names/Russian.txt  \n",
      "  inflating: pytorch_rnn_classification/data/names/Scottish.txt  \n",
      "  inflating: pytorch_rnn_classification/data/names/Spanish.txt  \n",
      "  inflating: pytorch_rnn_classification/data/names/Vietnamese.txt  \n"
     ]
    },
    {
     "name": "stderr",
     "output_type": "stream",
     "text": [
      "  % Total    % Received % Xferd  Average Speed   Time    Time     Time  Current\n",
      "                                 Dload  Upload   Total   Spent    Left  Speed\n",
      "\r",
      "  0     0    0     0    0     0      0      0 --:--:-- --:--:-- --:--:--     0\r",
      "  1 2814k    1 49152    0     0   243k      0  0:00:11 --:--:--  0:00:11  242k\r",
      " 30 2814k   30  847k    0     0   698k      0  0:00:04  0:00:01  0:00:03  697k\r",
      " 59 2814k   59 1663k    0     0   756k      0  0:00:03  0:00:02  0:00:01  756k\r",
      " 72 2814k   72 2047k    0     0   639k      0  0:00:04  0:00:03  0:00:01  639k\r",
      "100 2814k  100 2814k    0     0   693k      0  0:00:04  0:00:04 --:--:--  693k\n"
     ]
    }
   ],
   "source": [
    "%%bash\n",
    "\n",
    "# Download and unzip dataset\n",
    "curl -o data.zip https://download.pytorch.org/tutorial/data.zip\n",
    "\n",
    "data_dir=\"pytorch_rnn_classification\"\n",
    "rm -r $data_dir\n",
    "unzip data.zip -d $data_dir\n",
    "rm data.zip"
   ]
  },
  {
   "cell_type": "code",
   "execution_count": 2,
   "metadata": {},
   "outputs": [],
   "source": [
    "from __future__ import unicode_literals, print_function, division\n",
    "from io import open\n",
    "import glob\n",
    "import os\n",
    "import unicodedata\n",
    "import string"
   ]
  },
  {
   "cell_type": "code",
   "execution_count": 3,
   "metadata": {},
   "outputs": [
    {
     "name": "stdout",
     "output_type": "stream",
     "text": [
      "Data files: ['pytorch_rnn_classification/data/names/Czech.txt', 'pytorch_rnn_classification/data/names/German.txt', 'pytorch_rnn_classification/data/names/Arabic.txt', 'pytorch_rnn_classification/data/names/Japanese.txt', 'pytorch_rnn_classification/data/names/Chinese.txt', 'pytorch_rnn_classification/data/names/Vietnamese.txt', 'pytorch_rnn_classification/data/names/Russian.txt', 'pytorch_rnn_classification/data/names/French.txt', 'pytorch_rnn_classification/data/names/Irish.txt', 'pytorch_rnn_classification/data/names/English.txt', 'pytorch_rnn_classification/data/names/Spanish.txt', 'pytorch_rnn_classification/data/names/Greek.txt', 'pytorch_rnn_classification/data/names/Italian.txt', 'pytorch_rnn_classification/data/names/Portuguese.txt', 'pytorch_rnn_classification/data/names/Scottish.txt', 'pytorch_rnn_classification/data/names/Dutch.txt', 'pytorch_rnn_classification/data/names/Korean.txt', 'pytorch_rnn_classification/data/names/Polish.txt']\n",
      "\n",
      "All chars: abcdefghijklmnopqrstuvwxyzABCDEFGHIJKLMNOPQRSTUVWXYZ .,;'\n"
     ]
    }
   ],
   "source": [
    "# Fetch files from dataset\n",
    "data_path = \"pytorch_rnn_classification/data/names/*.txt\"\n",
    "data_files = glob.glob(data_path)\n",
    "print(\"Data files: {0}\".format(data_files))\n",
    "\n",
    "# Define input letters\n",
    "all_letters = string.ascii_letters + \" .,;'\"\n",
    "n_letters = len(all_letters)\n",
    "print(\"\\nAll chars:\", all_letters)"
   ]
  },
  {
   "cell_type": "code",
   "execution_count": 4,
   "metadata": {},
   "outputs": [
    {
     "name": "stdout",
     "output_type": "stream",
     "text": [
      "Slusarski\n"
     ]
    }
   ],
   "source": [
    "# Convert unicode char to ascii\n",
    "def unicodeToAscii(s):\n",
    "    return ''.join(\n",
    "        c for c in unicodedata.normalize('NFD', s)\n",
    "        if unicodedata.category(c) != 'Mn'\n",
    "        and c in all_letters\n",
    "    )\n",
    "\n",
    "print(unicodeToAscii('Ślusàrski'))"
   ]
  },
  {
   "cell_type": "code",
   "execution_count": 5,
   "metadata": {},
   "outputs": [
    {
     "name": "stdout",
     "output_type": "stream",
     "text": [
      "All categories:  ['Czech', 'German', 'Arabic', 'Japanese', 'Chinese', 'Vietnamese', 'Russian', 'French', 'Irish', 'English', 'Spanish', 'Greek', 'Italian', 'Portuguese', 'Scottish', 'Dutch', 'Korean', 'Polish']\n",
      "\n",
      "English words:  ['Abbas', 'Abbey', 'Abbott', 'Abdi', 'Abel', 'Abraham', 'Abrahams', 'Abrams', 'Ackary', 'Ackroyd', 'Acton', 'Adair', 'Adam', 'Adams', 'Adamson', 'Adanet', 'Addams', 'Adderley', 'Addinall', 'Addis']\n"
     ]
    }
   ],
   "source": [
    "# Build the category_lines dictionary, a list of names per language\n",
    "category_lines = {}\n",
    "all_categories = []\n",
    "\n",
    "# Read a file and split into lines\n",
    "def readLines(filename):\n",
    "    lines = open(filename, encoding='utf-8').read().strip().split('\\n')\n",
    "    return [unicodeToAscii(line) for line in lines]\n",
    "\n",
    "# Read dataset and group into categories\n",
    "for filename in data_files:\n",
    "    category = os.path.splitext(os.path.basename(filename))[0]\n",
    "    all_categories.append(category)\n",
    "    lines = readLines(filename)\n",
    "    category_lines[category] = lines\n",
    "\n",
    "n_categories = len(all_categories)\n",
    "print(\"All categories: \", all_categories)\n",
    "print(\"\\nEnglish words: \", category_lines[\"English\"][:20])"
   ]
  },
  {
   "cell_type": "code",
   "execution_count": 6,
   "metadata": {},
   "outputs": [
    {
     "name": "stdout",
     "output_type": "stream",
     "text": [
      "Tensor of J: \n",
      "\t tensor([[0., 0., 0., 0., 0., 0., 0., 0., 0., 0., 0., 0., 0., 0., 0., 0., 0., 0.,\n",
      "         0., 0., 0., 0., 0., 0., 0., 0., 0., 0., 0., 0., 0., 0., 0., 0., 0., 1.,\n",
      "         0., 0., 0., 0., 0., 0., 0., 0., 0., 0., 0., 0., 0., 0., 0., 0., 0., 0.,\n",
      "         0., 0., 0.]])\n",
      "\n",
      "Tensor of Jones has diamensions:  torch.Size([5, 1, 57])\n"
     ]
    }
   ],
   "source": [
    "import torch\n",
    "\n",
    "# Find letter index from all_letters, e.g. \"a\" = 0\n",
    "def letterToIndex(letter):\n",
    "    return all_letters.find(letter)\n",
    "\n",
    "# Convert a letter into a <1 x n_letters> Tensor\n",
    "def letterToTensor(letter):\n",
    "    tensor = torch.zeros(1, n_letters)\n",
    "    tensor[0][letterToIndex(letter)] = 1\n",
    "    return tensor\n",
    "\n",
    "# Convert a word to a tensor\n",
    "def lineToTensor(line):\n",
    "    tensor = torch.zeros(len(line), 1, n_letters)\n",
    "    for li, letter in enumerate(line):\n",
    "        tensor[li][0][letterToIndex(letter)] = 1\n",
    "    return tensor\n",
    "\n",
    "print(\"Tensor of J: \\n\\t\", letterToTensor('J'))\n",
    "print(\"\\nTensor of Jones has diamensions: \", lineToTensor('Jones').size())"
   ]
  },
  {
   "cell_type": "code",
   "execution_count": 7,
   "metadata": {},
   "outputs": [],
   "source": [
    "import torch.nn as nn\n",
    "\n",
    "# Define a class for RNN\n",
    "class RNN(nn.Module):\n",
    "    def __init__(self, input_size, hidden_size, output_size):\n",
    "        super(RNN, self).__init__()\n",
    "\n",
    "        # Diamention of hidden state\n",
    "        self.hidden_size = hidden_size\n",
    "\n",
    "        # Hidden state and output are combination of previous hidden states and input\n",
    "        self.i2h = nn.Linear(input_size + hidden_size, hidden_size)\n",
    "        self.i2o = nn.Linear(input_size + hidden_size, output_size)\n",
    "        self.softmax = nn.LogSoftmax(dim=1)\n",
    "\n",
    "    def forward(self, input, hidden):\n",
    "        # Concatenate input and prev hidden state\n",
    "        combined = torch.cat((input, hidden), 1)\n",
    "        \n",
    "        hidden = self.i2h(combined)\n",
    "        output = self.i2o(combined)\n",
    "        \n",
    "        output = self.softmax(output)\n",
    "        return output, hidden\n",
    "\n",
    "    def initHidden(self):\n",
    "        # Initialize hidden state to zero\n",
    "        return torch.zeros(1, self.hidden_size)\n",
    "\n",
    "n_hidden = 128\n",
    "rnn = RNN(n_letters, n_hidden, n_categories)"
   ]
  },
  {
   "cell_type": "code",
   "execution_count": 8,
   "metadata": {},
   "outputs": [
    {
     "name": "stdout",
     "output_type": "stream",
     "text": [
      "RNN output for Albert: \n",
      "\ttensor([[-2.9736, -2.8509, -2.8175, -2.8053, -2.9175, -2.9236, -2.9090, -2.9480,\n",
      "         -2.8130, -2.9144, -2.9351, -2.8920, -2.9864, -2.8756, -2.9089, -2.7680,\n",
      "         -2.8357, -2.9888]], grad_fn=<LogSoftmaxBackward>)\n",
      "\n",
      "Language of Albert: Dutch, predictions: 15\n"
     ]
    }
   ],
   "source": [
    "# Verify RNN layer output and prediction for a word\n",
    "word = \"Albert\"\n",
    "input = lineToTensor(word)\n",
    "\n",
    "hidden = torch.zeros(1, n_hidden)\n",
    "output, next_hidden = rnn(input[0], hidden)\n",
    "\n",
    "print(\"RNN output for {0}: \\n\\t{1}\".format(word, output))\n",
    "\n",
    "def categoryFromOutput(output):\n",
    "    top_n, top_i = output.topk(1)\n",
    "    category_i = top_i[0].item()\n",
    "    return all_categories[category_i], category_i\n",
    "\n",
    "language, prediction = categoryFromOutput(output)\n",
    "print(\"\\nLanguage of {0}: {1}, predictions: {2}\".format(word, language, prediction))"
   ]
  },
  {
   "cell_type": "code",
   "execution_count": 9,
   "metadata": {},
   "outputs": [
    {
     "name": "stdout",
     "output_type": "stream",
     "text": [
      "category = Russian / line = Jirmunsky\n",
      "category = Japanese / line = Tani\n",
      "category = Arabic / line = Baba\n",
      "category = Japanese / line = Koyanagi\n",
      "category = German / line = Abbing\n",
      "category = Korean / line = Gu\n",
      "category = Portuguese / line = Gomes\n",
      "category = Chinese / line = Huang\n",
      "category = Irish / line = Bradan\n",
      "category = French / line = Rome\n"
     ]
    }
   ],
   "source": [
    "import random\n",
    "\n",
    "# Get random sample from a list\n",
    "def randomChoice(samples):\n",
    "    return samples[random.randint(0, len(samples) - 1)]\n",
    "\n",
    "# Fetch a random word for training\n",
    "def randomTrainingExample():\n",
    "    category = randomChoice(all_categories)\n",
    "    line = randomChoice(category_lines[category])\n",
    "    \n",
    "    category_tensor = torch.tensor([all_categories.index(category)], dtype=torch.long)\n",
    "    line_tensor = lineToTensor(line)\n",
    "\n",
    "    return category, line, category_tensor, line_tensor\n",
    "\n",
    "for i in range(10):\n",
    "    category, line, category_tensor, line_tensor = randomTrainingExample()\n",
    "    print('category =', category, '/ line =', line)"
   ]
  },
  {
   "cell_type": "code",
   "execution_count": 10,
   "metadata": {},
   "outputs": [],
   "source": [
    "criterion = nn.NLLLoss()\n",
    "learning_rate = 0.005\n",
    "\n",
    "# Define training with a word sample\n",
    "def train(category_tensor, line_tensor):\n",
    "    hidden = rnn.initHidden()\n",
    "\n",
    "    # Initialize gradients to zero\n",
    "    rnn.zero_grad()\n",
    "\n",
    "    # Iterate over the length of the word\n",
    "    for i in range(line_tensor.size()[0]):\n",
    "        output, hidden = rnn(line_tensor[i], hidden)\n",
    "\n",
    "    # Evaluate loss and gradients\n",
    "    loss = criterion(output, category_tensor)\n",
    "    loss.backward()\n",
    "\n",
    "    # Reduce parameter values proportional to gradients, multiplied by learning rate\n",
    "    for p in rnn.parameters():\n",
    "        p.data.add_(-learning_rate, p.grad.data)\n",
    "\n",
    "    return output, loss.item()"
   ]
  },
  {
   "cell_type": "code",
   "execution_count": 11,
   "metadata": {},
   "outputs": [
    {
     "name": "stdout",
     "output_type": "stream",
     "text": [
      "5000 5% (0m 7s) 2.3781 Maessen / Irish ✗ (Dutch)\n",
      "10000 10% (0m 15s) 2.0273 Uttley / English ✓\n",
      "15000 15% (0m 22s) 1.9156 Koukal / Arabic ✗ (Czech)\n",
      "20000 20% (0m 30s) 2.3291 Sarkozy / Irish ✗ (French)\n",
      "25000 25% (0m 38s) 1.5511 Kikkert / Japanese ✗ (Dutch)\n",
      "30000 30% (0m 45s) 1.9942 Hunter / German ✗ (Scottish)\n",
      "35000 35% (0m 52s) 1.2724 Vlasak / Polish ✗ (Czech)\n",
      "40000 40% (1m 0s) 3.7853 Rompay / English ✗ (Dutch)\n",
      "45000 45% (1m 7s) 0.2812 Millar / Scottish ✓\n",
      "50000 50% (1m 15s) 0.9046 Yu / Vietnamese ✗ (Korean)\n",
      "55000 55% (1m 23s) 3.4006 Doljs / Greek ✗ (Czech)\n",
      "60000 60% (1m 30s) 1.1996 Marion / French ✓\n",
      "65000 65% (1m 38s) 2.2832 Redding / Chinese ✗ (English)\n",
      "70000 70% (1m 46s) 0.4019 Davidson / Scottish ✓\n",
      "75000 75% (1m 54s) 2.6281 Hayden / Dutch ✗ (Irish)\n",
      "80000 80% (2m 2s) 1.9683 Clark / Irish ✗ (Scottish)\n",
      "85000 85% (2m 10s) 1.7320 Matos / Greek ✗ (Portuguese)\n",
      "90000 90% (2m 18s) 0.8164 Schoorl / Dutch ✓\n",
      "95000 95% (2m 27s) 0.7911 Escarcega / Spanish ✓\n",
      "100000 100% (2m 35s) 1.0207 Wallace / English ✗ (Scottish)\n"
     ]
    }
   ],
   "source": [
    "import time\n",
    "import math\n",
    "\n",
    "n_iters = 100000\n",
    "print_every = 5000\n",
    "plot_every = 100\n",
    "\n",
    "# Keep track of losses for plotting\n",
    "current_loss = 0\n",
    "all_losses = []\n",
    "\n",
    "def timeSince(since):\n",
    "    now = time.time()\n",
    "    s = now - since\n",
    "    m = math.floor(s / 60)\n",
    "    s -= m * 60\n",
    "    return '%dm %ds' % (m, s)\n",
    "\n",
    "start = time.time()\n",
    "\n",
    "# Define training loop\n",
    "for iter in range(1, n_iters + 1):\n",
    "    # Fetch random sample word and label\n",
    "    category, line, category_tensor, line_tensor = randomTrainingExample()\n",
    "    output, loss = train(category_tensor, line_tensor)\n",
    "    \n",
    "    current_loss += loss\n",
    "\n",
    "    # Print iter number, loss, name and guess\n",
    "    if iter % print_every == 0:\n",
    "        guess, guess_i = categoryFromOutput(output)\n",
    "        correct = '✓' if guess == category else '✗ (%s)' % category\n",
    "        print('%d %d%% (%s) %.4f %s / %s %s' % (iter, iter / n_iters * 100, timeSince(start), loss, line, guess, correct))\n",
    "\n",
    "    # Add current loss avg to list of losses\n",
    "    if iter % plot_every == 0:\n",
    "        all_losses.append(current_loss / plot_every)\n",
    "        current_loss = 0"
   ]
  },
  {
   "cell_type": "code",
   "execution_count": 12,
   "metadata": {},
   "outputs": [
    {
     "data": {
      "image/png": "[encoded data removed]",
      "text/plain": [
       "<Figure size 432x288 with 1 Axes>"
      ]
     },
     "metadata": {
      "needs_background": "light"
     },
     "output_type": "display_data"
    }
   ],
   "source": [
    "import matplotlib.pyplot as plt\n",
    "import matplotlib.ticker as ticker\n",
    "\n",
    "# Plot loss during the training\n",
    "plt.figure()\n",
    "plt.plot(all_losses)\n",
    "plt.show()"
   ]
  },
  {
   "cell_type": "code",
   "execution_count": 13,
   "metadata": {},
   "outputs": [],
   "source": [
    "# Keep track of correct guesses in a confusion matrix\n",
    "confusion = torch.zeros(n_categories, n_categories)\n",
    "n_confusion = 10000\n",
    "\n",
    "# Just return an output given a word\n",
    "def evaluate(line_tensor):\n",
    "    hidden = rnn.initHidden()\n",
    "\n",
    "    for i in range(line_tensor.size()[0]):\n",
    "        output, hidden = rnn(line_tensor[i], hidden)\n",
    "\n",
    "    return output\n",
    "\n",
    "# Define validation loop\n",
    "for i in range(n_confusion):\n",
    "    # Fetch random sample word and label\n",
    "    category, line, category_tensor, line_tensor = randomTrainingExample()\n",
    "    output = evaluate(line_tensor)\n",
    "    \n",
    "    guess, guess_i = categoryFromOutput(output)\n",
    "    category_i = all_categories.index(category)\n",
    "    confusion[category_i][guess_i] += 1\n",
    "    \n",
    "# Normalize by dividing every row by its sum\n",
    "for i in range(n_categories):\n",
    "    confusion[i] = confusion[i] / confusion[i].sum()"
   ]
  },
  {
   "cell_type": "code",
   "execution_count": 14,
   "metadata": {},
   "outputs": [
    {
     "data": {
      "image/png": "[encoded data removed]",
      "text/plain": [
       "<Figure size 432x288 with 2 Axes>"
      ]
     },
     "metadata": {
      "needs_background": "light"
     },
     "output_type": "display_data"
    }
   ],
   "source": [
    "# Set up plot\n",
    "fig = plt.figure()\n",
    "ax = fig.add_subplot(111)\n",
    "cax = ax.matshow(confusion.numpy())\n",
    "fig.colorbar(cax)\n",
    "\n",
    "# Set up axes\n",
    "ax.set_xticklabels([''] + all_categories, rotation=90)\n",
    "ax.set_yticklabels([''] + all_categories)\n",
    "\n",
    "# Force label at every tick\n",
    "ax.xaxis.set_major_locator(ticker.MultipleLocator(1))\n",
    "ax.yaxis.set_major_locator(ticker.MultipleLocator(1))\n",
    "\n",
    "# sphinx_gallery_thumbnail_number = 2\n",
    "plt.show()"
   ]
  },
  {
   "cell_type": "code",
   "execution_count": 15,
   "metadata": {},
   "outputs": [
    {
     "name": "stdout",
     "output_type": "stream",
     "text": [
      "\n",
      "> Dovesky\n",
      "(-0.46) Czech\n",
      "(-1.24) Russian\n",
      "(-3.20) Polish\n",
      "\n",
      "> Jackson\n",
      "(-0.33) Scottish\n",
      "(-2.12) Russian\n",
      "(-2.47) English\n",
      "\n",
      "> Satoshi\n",
      "(-0.61) Japanese\n",
      "(-1.26) Italian\n",
      "(-2.99) Arabic\n"
     ]
    }
   ],
   "source": [
    "# Show top-n predictions for a word\n",
    "def predict(input_line, n_predictions):\n",
    "    print('\\n> %s' % input_line)\n",
    "    with torch.no_grad():\n",
    "        output = evaluate(lineToTensor(input_line))\n",
    "\n",
    "        # Get top N categories\n",
    "        topv, topi = output.topk(n_predictions, 1, True)\n",
    "        predictions = []\n",
    "\n",
    "        for i in range(n_predictions):\n",
    "            value = topv[0][i].item()\n",
    "            category_index = topi[0][i].item()\n",
    "            print('(%.2f) %s' % (value, all_categories[category_index]))\n",
    "            predictions.append([value, all_categories[category_index]])\n",
    "\n",
    "predict('Dovesky', 3)\n",
    "predict('Jackson', 3)\n",
    "predict('Satoshi', 3)"
   ]
  },
  {
   "cell_type": "code",
   "execution_count": null,
   "metadata": {},
   "outputs": [],
   "source": []
  }
 ],
 "metadata": {
  "kernelspec": {
   "display_name": "Python [conda env:nlp]",
   "language": "python",
   "name": "conda-env-nlp-py"
  },
  "language_info": {
   "codemirror_mode": {
    "name": "ipython",
    "version": 3
   },
   "file_extension": ".py",
   "mimetype": "text/x-python",
   "name": "python",
   "nbconvert_exporter": "python",
   "pygments_lexer": "ipython3",
   "version": "3.7.6"
  }
 },
 "nbformat": 4,
 "nbformat_minor": 2
}
